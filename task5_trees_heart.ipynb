{
 "cells": [
  {
   "cell_type": "markdown",
   "metadata": {},
   "source": [
    "# Task 5 — Decision Trees & Random Forests (Heart Disease)\n",
    "\n",
    "**Objective:**\n",
    "- Train Decision Tree & Random Forest models\n",
    "- Visualize and interpret them\n",
    "- Study overfitting (tree depth)\n",
    "- Compare accuracy\n",
    "- Evaluate with cross-validation\n",
    "\n",
    "> **Dataset expected:** `heart.csv`. Place it in the same folder as this notebook."
   ]
  },
  {
   "cell_type": "code",
   "execution_count": null,
   "metadata": {},
   "outputs": [],
   "source": [
    "import os, glob\n",
    "import numpy as np\n",
    "import pandas as pd\n",
    "import matplotlib.pyplot as plt\n",
    "\n",
    "from sklearn.model_selection import train_test_split, StratifiedKFold, cross_val_score\n",
    "from sklearn.tree import DecisionTreeClassifier, plot_tree\n",
    "from sklearn.ensemble import RandomForestClassifier\n",
    "from sklearn.metrics import accuracy_score, confusion_matrix, classification_report, roc_auc_score\n",
    "from sklearn.impute import SimpleImputer\n",
    "from sklearn.compose import ColumnTransformer\n",
    "from sklearn.pipeline import Pipeline\n",
    "from sklearn.preprocessing import OneHotEncoder\n",
    "\n",
    "plt.rcParams['figure.figsize'] = (8,5)"
   ]
  },
  {
   "cell_type": "code",
   "execution_count": null,
   "metadata": {},
   "outputs": [],
   "source": [
    "# Locate heart.csv\n",
    "candidates = glob.glob('**/heart*.csv', recursive=True)\n",
    "print(\"CSV candidates:\", candidates)\n",
    "csv_path = candidates[0] if candidates else 'heart.csv'\n",
    "if not os.path.exists(csv_path):\n",
    "    raise FileNotFoundError(\"heart.csv not found. Please put it in this folder.\")\n",
    "\n",
    "df = pd.read_csv(csv_path)\n",
    "print(\"Shape:\", df.shape)\n",
    "df.head()"
   ]
  },
  {
   "cell_type": "code",
   "execution_count": null,
   "metadata": {},
   "outputs": [],
   "source": [
    "print(df.dtypes)\n",
    "print(\"\\nMissing values:\\n\", df.isna().sum())\n",
    "print(\"\\nTarget distribution:\\n\", df['target'].value_counts())\n",
    "\n",
    "y = df['target'].astype(int)\n",
    "X = df.drop(columns=['target'])"
   ]
  },
  {
   "cell_type": "code",
   "execution_count": null,
   "metadata": {},
   "outputs": [],
   "source": [
    "categorical_like = ['cp','restecg','slope','thal','ca','sex','fbs','exang']\n",
    "categorical_like = [c for c in categorical_like if c in X.columns]\n",
    "numeric_cols = [c for c in X.columns if c not in categorical_like]\n",
    "\n",
    "preprocess = ColumnTransformer([\n",
    "    ('num', SimpleImputer(strategy='median'), numeric_cols),\n",
    "    ('cat', Pipeline([('imputer', SimpleImputer(strategy='most_frequent')),\n",
    "                      ('onehot', OneHotEncoder(handle_unknown='ignore'))]), categorical_like)\n",
    "])"
   ]
  },
  {
   "cell_type": "code",
   "execution_count": null,
   "metadata": {},
   "outputs": [],
   "source": [
    "X_train, X_test, y_train, y_test = train_test_split(X, y, test_size=0.2, stratify=y, random_state=42)\n",
    "X_train.shape, X_test.shape"
   ]
  },
  {
   "cell_type": "code",
   "execution_count": null,
   "metadata": {},
   "outputs": [],
   "source": [
    "# Decision Tree baseline\n",
    "dt = Pipeline([('prep', preprocess), ('clf', DecisionTreeClassifier(random_state=42))])\n",
    "dt.fit(X_train, y_train)\n",
    "\n",
    "y_pred_dt = dt.predict(X_test)\n",
    "print(\"Decision Tree accuracy:\", accuracy_score(y_test, y_pred_dt))\n",
    "print(\"\\nConfusion Matrix:\\n\", confusion_matrix(y_test, y_pred_dt))\n",
    "print(\"\\nReport:\\n\", classification_report(y_test, y_pred_dt, digits=4))\n",
    "print(\"ROC AUC:\", roc_auc_score(y_test, dt.predict_proba(X_test)[:,1]))\n",
    "\n",
    "# Visualize shallow tree\n",
    "dt_small = Pipeline([('prep', preprocess), ('clf', DecisionTreeClassifier(max_depth=3, random_state=42))])\n",
    "dt_small.fit(X_train, y_train)\n",
    "plt.figure(figsize=(14,8))\n",
    "plot_tree(dt_small.named_steps['clf'], filled=True, feature_names=numeric_cols, class_names=['No','Yes'])\n",
    "plt.show()"
   ]
  },
  {
   "cell_type": "code",
   "execution_count": null,
   "metadata": {},
   "outputs": [],
   "source": [
    "# Overfitting check\n",
    "depths = range(1, 15)\n",
    "train_scores, val_scores = [], []\n",
    "skf = StratifiedKFold(n_splits=5, shuffle=True, random_state=42)\n",
    "\n",
    "for d in depths:\n",
    "    pipe = Pipeline([('prep', preprocess), ('clf', DecisionTreeClassifier(max_depth=d, random_state=42))])\n",
    "    val_scores.append(cross_val_score(pipe, X_train, y_train, cv=skf, scoring='accuracy').mean())\n",
    "    pipe.fit(X_train, y_train)\n",
    "    train_scores.append(accuracy_score(y_train, pipe.predict(X_train)))\n",
    "\n",
    "plt.plot(depths, train_scores, label='Train')\n",
    "plt.plot(depths, val_scores, label='CV')\n",
    "plt.xlabel('max_depth'); plt.ylabel('Accuracy'); plt.legend(); plt.show()"
   ]
  },
  {
   "cell_type": "code",
   "execution_count": null,
   "metadata": {},
   "outputs": [],
   "source": [
    "# Random Forest\n",
    "rf = Pipeline([('prep', preprocess), ('clf', RandomForestClassifier(n_estimators=300, random_state=42))])\n",
    "rf.fit(X_train, y_train)\n",
    "\n",
    "y_pred_rf = rf.predict(X_test)\n",
    "print(\"Random Forest accuracy:\", accuracy_score(y_test, y_pred_rf))\n",
    "print(\"\\nReport:\\n\", classification_report(y_test, y_pred_rf, digits=4))\n",
    "print(\"ROC AUC:\", roc_auc_score(y_test, rf.predict_proba(X_test)[:,1]))\n",
    "\n",
    "# Feature importance\n",
    "importances = rf.named_steps['clf'].feature_importances_\n",
    "fi = pd.DataFrame({'feature': X.columns, 'importance': importances})\n",
    "fi.sort_values('importance', ascending=False).head(10).plot.barh(x='feature', y='importance')\n",
    "plt.show()"
   ]
  },
  {
   "cell_type": "code",
   "execution_count": null,
   "metadata": {},
   "outputs": [],
   "source": [
    "# Cross-validation\n",
    "skf = StratifiedKFold(n_splits=5, shuffle=True, random_state=42)\n",
    "scores_dt = cross_val_score(DecisionTreeClassifier(max_depth=5, random_state=42), X, y, cv=skf, scoring='accuracy')\n",
    "scores_rf = cross_val_score(RandomForestClassifier(n_estimators=300, random_state=42), X, y, cv=skf, scoring='accuracy')\n",
    "\n",
    "print(\"Decision Tree CV:\", scores_dt.mean(), \"+/-\", scores_dt.std())\n",
    "print(\"Random Forest CV:\", scores_rf.mean(), \"+/-\", scores_rf.std())"
   ]
  }
 ],
 "metadata": {
  "kernelspec": {
   "display_name": "Python 3",
   "language": "python",
   "name": "python3"
  },
  "language_info": {
   "name": "python",
   "version": "3.9"
  }
 },
 "nbformat": 4,
 "nbformat_minor": 5
}
